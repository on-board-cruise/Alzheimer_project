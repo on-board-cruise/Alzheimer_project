{
 "cells": [
  {
   "cell_type": "code",
   "execution_count": 1,
   "metadata": {
    "executionInfo": {
     "elapsed": 4253,
     "status": "ok",
     "timestamp": 1631945155871,
     "user": {
      "displayName": "류선영",
      "photoUrl": "https://lh3.googleusercontent.com/a/default-user=s64",
      "userId": "15143999593966649713"
     },
     "user_tz": -540
    },
    "id": "CNn0C8-TrjWL"
   },
   "outputs": [],
   "source": [
    "import numpy as np\n",
    "import os\n",
    "import cv2\n",
    "import tensorflow as tf\n",
    "from tensorflow import keras\n",
    "from tensorflow.keras import layers\n",
    "from tensorflow.keras.preprocessing.image import ImageDataGenerator\n",
    "from glob import glob\n",
    "import matplotlib.pyplot as plt"
   ]
  },
  {
   "cell_type": "code",
   "execution_count": 66,
   "metadata": {
    "colab": {
     "base_uri": "https://localhost:8080/"
    },
    "executionInfo": {
     "elapsed": 5930,
     "status": "ok",
     "timestamp": 1631945161792,
     "user": {
      "displayName": "류선영",
      "photoUrl": "https://lh3.googleusercontent.com/a/default-user=s64",
      "userId": "15143999593966649713"
     },
     "user_tz": -540
    },
    "id": "pxUCTfXkVMCB",
    "outputId": "4ad11fd5-8905-4e8f-b255-0fa11c0ac9d4"
   },
   "outputs": [
    {
     "name": "stderr",
     "output_type": "stream",
     "text": [
      "2021-09-22 05:31:49.166867: I tensorflow/stream_executor/cuda/cuda_gpu_executor.cc:937] successful NUMA node read from SysFS had negative value (-1), but there must be at least one NUMA node, so returning NUMA node zero\n",
      "2021-09-22 05:31:49.167451: W tensorflow/core/common_runtime/gpu/gpu_device.cc:1835] Cannot dlopen some GPU libraries. Please make sure the missing libraries mentioned above are installed properly if you would like to use GPU. Follow the guide at https://www.tensorflow.org/install/gpu for how to download and setup the required libraries for your platform.\n",
      "Skipping registering GPU devices...\n"
     ]
    },
    {
     "data": {
      "text/plain": [
       "False"
      ]
     },
     "execution_count": 66,
     "metadata": {},
     "output_type": "execute_result"
    }
   ],
   "source": [
    "tf.test.is_gpu_available()"
   ]
  },
  {
   "cell_type": "code",
   "execution_count": 59,
   "metadata": {
    "colab": {
     "base_uri": "https://localhost:8080/"
    },
    "executionInfo": {
     "elapsed": 15,
     "status": "ok",
     "timestamp": 1631945161793,
     "user": {
      "displayName": "류선영",
      "photoUrl": "https://lh3.googleusercontent.com/a/default-user=s64",
      "userId": "15143999593966649713"
     },
     "user_tz": -540
    },
    "id": "xmQnQrbIVSHI",
    "outputId": "155acf1b-02c6-4b06-ccec-8142ebb7aa57"
   },
   "outputs": [
    {
     "data": {
      "text/plain": [
       "[]"
      ]
     },
     "execution_count": 59,
     "metadata": {},
     "output_type": "execute_result"
    }
   ],
   "source": [
    "tf.config.list_physical_devices('GPU')"
   ]
  },
  {
   "cell_type": "code",
   "execution_count": 60,
   "metadata": {
    "executionInfo": {
     "elapsed": 12,
     "status": "ok",
     "timestamp": 1631945161794,
     "user": {
      "displayName": "류선영",
      "photoUrl": "https://lh3.googleusercontent.com/a/default-user=s64",
      "userId": "15143999593966649713"
     },
     "user_tz": -540
    },
    "id": "MPJKGV_XVXsw"
   },
   "outputs": [],
   "source": [
    "os.environ['CUDA_DVICE_ORDER'] = 'PCI_BUS_ID'\n",
    "os.environ['CUDA_VISIBLE_DEVICES'] = '0'"
   ]
  },
  {
   "cell_type": "markdown",
   "metadata": {
    "id": "exjq-5h8gY-I"
   },
   "source": [
    "# Epoch & Batch 수를 어떻게 정할지???????????????????????????????????????\n"
   ]
  },
  {
   "cell_type": "code",
   "execution_count": 27,
   "metadata": {},
   "outputs": [
    {
     "name": "stdout",
     "output_type": "stream",
     "text": [
      "/home/jupyter/Alzheimer_project\n"
     ]
    }
   ],
   "source": [
    "print(os.getcwd())"
   ]
  },
  {
   "cell_type": "code",
   "execution_count": 28,
   "metadata": {
    "executionInfo": {
     "elapsed": 267,
     "status": "ok",
     "timestamp": 1631945206064,
     "user": {
      "displayName": "류선영",
      "photoUrl": "https://lh3.googleusercontent.com/a/default-user=s64",
      "userId": "15143999593966649713"
     },
     "user_tz": -540
    },
    "id": "hdCgc1v2t_2c"
   },
   "outputs": [],
   "source": [
    "LEARNING_RATE = 0.001\n",
    "N_EPOCHS = 30\n",
    "N_BATCHS = 100\n",
    "\n",
    "IMAGE_SIZE = [208, 176]"
   ]
  },
  {
   "cell_type": "code",
   "execution_count": 29,
   "metadata": {
    "executionInfo": {
     "elapsed": 9,
     "status": "ok",
     "timestamp": 1631945207265,
     "user": {
      "displayName": "류선영",
      "photoUrl": "https://lh3.googleusercontent.com/a/default-user=s64",
      "userId": "15143999593966649713"
     },
     "user_tz": -540
    },
    "id": "QjKOX2J9uAAj"
   },
   "outputs": [],
   "source": [
    "train_dir = '/home/jupyter/Alzheimer_project/Alzheimer_s Dataset/train'\n",
    "test_dir = '/home/jupyter/Alzheimer_project/Alzheimer_s Dataset/test'"
   ]
  },
  {
   "cell_type": "code",
   "execution_count": 30,
   "metadata": {
    "colab": {
     "base_uri": "https://localhost:8080/"
    },
    "executionInfo": {
     "elapsed": 13461,
     "status": "ok",
     "timestamp": 1631945224743,
     "user": {
      "displayName": "류선영",
      "photoUrl": "https://lh3.googleusercontent.com/a/default-user=s64",
      "userId": "15143999593966649713"
     },
     "user_tz": -540
    },
    "id": "7D2150xw3GBH",
    "outputId": "916dca23-120b-43b2-868e-652d81500f77"
   },
   "outputs": [
    {
     "data": {
      "text/plain": [
       "5121"
      ]
     },
     "execution_count": 30,
     "metadata": {},
     "output_type": "execute_result"
    }
   ],
   "source": [
    "# train의 총 이미지 개수\n",
    "len(glob(os.path.join(train_dir,'*/*.jpg')))"
   ]
  },
  {
   "cell_type": "code",
   "execution_count": 31,
   "metadata": {
    "colab": {
     "base_uri": "https://localhost:8080/"
    },
    "executionInfo": {
     "elapsed": 3560,
     "status": "ok",
     "timestamp": 1631945243827,
     "user": {
      "displayName": "류선영",
      "photoUrl": "https://lh3.googleusercontent.com/a/default-user=s64",
      "userId": "15143999593966649713"
     },
     "user_tz": -540
    },
    "id": "gNifs3zj38VG",
    "outputId": "e82e65fa-0dae-47c5-ee0d-cbb6b9a95801"
   },
   "outputs": [
    {
     "data": {
      "text/plain": [
       "1279"
      ]
     },
     "execution_count": 31,
     "metadata": {},
     "output_type": "execute_result"
    }
   ],
   "source": [
    "# test의 총 이미지 개수\n",
    "len(glob(os.path.join(test_dir,'*/*.jpg')))"
   ]
  },
  {
   "cell_type": "code",
   "execution_count": 32,
   "metadata": {
    "colab": {
     "base_uri": "https://localhost:8080/"
    },
    "executionInfo": {
     "elapsed": 290,
     "status": "ok",
     "timestamp": 1631945245228,
     "user": {
      "displayName": "류선영",
      "photoUrl": "https://lh3.googleusercontent.com/a/default-user=s64",
      "userId": "15143999593966649713"
     },
     "user_tz": -540
    },
    "id": "-Zrcg6D26fNn",
    "outputId": "44b425c1-d929-4d19-b773-794b11f0e69b"
   },
   "outputs": [
    {
     "data": {
      "text/plain": [
       "2560"
      ]
     },
     "execution_count": 32,
     "metadata": {},
     "output_type": "execute_result"
    }
   ],
   "source": [
    "len(glob(os.path.join(train_dir, 'NonDemented', '*.jpg')))"
   ]
  },
  {
   "cell_type": "code",
   "execution_count": 33,
   "metadata": {
    "colab": {
     "base_uri": "https://localhost:8080/"
    },
    "executionInfo": {
     "elapsed": 261,
     "status": "ok",
     "timestamp": 1631945249905,
     "user": {
      "displayName": "류선영",
      "photoUrl": "https://lh3.googleusercontent.com/a/default-user=s64",
      "userId": "15143999593966649713"
     },
     "user_tz": -540
    },
    "id": "11yMM1fv4HNG",
    "outputId": "5527c027-b14a-49d2-eea8-5a98aa783e7e"
   },
   "outputs": [
    {
     "name": "stdout",
     "output_type": "stream",
     "text": [
      "MildDemented 717\n",
      "ModerateDemented 52\n",
      "VeryMildDemented 1792\n",
      "NonDemented 2560\n"
     ]
    }
   ],
   "source": [
    "# train data의 각 class별 데이터 개수\n",
    "train_class_dir = glob(os.path.join(train_dir, '*'))\n",
    "\n",
    "for class_name in train_class_dir:\n",
    "  class_count = len(glob(os.path.join(class_name,'*.jpg')))\n",
    "  print(os.path.basename(class_name), class_count)\n"
   ]
  },
  {
   "cell_type": "code",
   "execution_count": 34,
   "metadata": {
    "colab": {
     "base_uri": "https://localhost:8080/"
    },
    "executionInfo": {
     "elapsed": 282,
     "status": "ok",
     "timestamp": 1631945252241,
     "user": {
      "displayName": "류선영",
      "photoUrl": "https://lh3.googleusercontent.com/a/default-user=s64",
      "userId": "15143999593966649713"
     },
     "user_tz": -540
    },
    "id": "LTIOjbeh6_oz",
    "outputId": "63724673-37ca-4276-8533-0ae9c0b1acd0"
   },
   "outputs": [
    {
     "name": "stdout",
     "output_type": "stream",
     "text": [
      "MildDemented 179\n",
      "ModerateDemented 12\n",
      "VeryMildDemented 448\n",
      "NonDemented 640\n"
     ]
    }
   ],
   "source": [
    "# train data의 각 class별 데이터 개수\n",
    "test_class_dir = glob(os.path.join(test_dir, '*'))\n",
    "\n",
    "for class_name in test_class_dir:\n",
    "  class_count = len(glob(os.path.join(class_name,'*.jpg')))\n",
    "  print(os.path.basename(class_name), class_count)\n"
   ]
  },
  {
   "cell_type": "code",
   "execution_count": 35,
   "metadata": {
    "colab": {
     "base_uri": "https://localhost:8080/"
    },
    "executionInfo": {
     "elapsed": 467,
     "status": "ok",
     "timestamp": 1631945398796,
     "user": {
      "displayName": "류선영",
      "photoUrl": "https://lh3.googleusercontent.com/a/default-user=s64",
      "userId": "15143999593966649713"
     },
     "user_tz": -540
    },
    "id": "K81TVP2t2Gi9",
    "outputId": "d0500934-7541-401c-d7df-6f0df9e28ed6"
   },
   "outputs": [
    {
     "data": {
      "text/plain": [
       "(208, 176, 3)"
      ]
     },
     "execution_count": 35,
     "metadata": {},
     "output_type": "execute_result"
    }
   ],
   "source": [
    "# 이미지 크기 확인\n",
    "\n",
    "brain_img = cv2.imread('/home/jupyter/Alzheimer_project/Alzheimer_s Dataset/train/ModerateDemented/moderateDem0.jpg')  \n",
    "# type(brain_img)\n",
    "brain_img.shape"
   ]
  },
  {
   "cell_type": "code",
   "execution_count": 36,
   "metadata": {
    "executionInfo": {
     "elapsed": 10,
     "status": "ok",
     "timestamp": 1631945398797,
     "user": {
      "displayName": "류선영",
      "photoUrl": "https://lh3.googleusercontent.com/a/default-user=s64",
      "userId": "15143999593966649713"
     },
     "user_tz": -540
    },
    "id": "KqbJktf-uACr"
   },
   "outputs": [],
   "source": [
    "# ImageDataGenerator 생성\n",
    "train_datagen = ImageDataGenerator(rescale=1/255.0)\n",
    "test_datagen = ImageDataGenerator(rescale=1/255.0)"
   ]
  },
  {
   "cell_type": "markdown",
   "metadata": {
    "id": "Sy3SMbSGgExp"
   },
   "source": [
    "# pytorch에서 어떻게 데이터를 넣어줄건지????????????????????????????????????????"
   ]
  },
  {
   "cell_type": "code",
   "execution_count": 37,
   "metadata": {
    "colab": {
     "base_uri": "https://localhost:8080/"
    },
    "executionInfo": {
     "elapsed": 389,
     "status": "ok",
     "timestamp": 1631945399177,
     "user": {
      "displayName": "류선영",
      "photoUrl": "https://lh3.googleusercontent.com/a/default-user=s64",
      "userId": "15143999593966649713"
     },
     "user_tz": -540
    },
    "id": "siPrhlpAuAEv",
    "outputId": "381fd6a3-60cf-4ef4-c0cb-2be2875e95b6"
   },
   "outputs": [
    {
     "name": "stdout",
     "output_type": "stream",
     "text": [
      "Found 5121 images belonging to 4 classes.\n",
      "Found 1279 images belonging to 4 classes.\n"
     ]
    }
   ],
   "source": [
    "# raw data 연결\n",
    "# pytorch에서 어떻게 데이터를 넣어줄건지??????????????????????????????????????????\n",
    "train_iter = train_datagen.flow_from_directory(train_dir,\n",
    "                                               target_size=IMAGE_SIZE,\n",
    "                                               class_mode='categorical',\n",
    "                                               batch_size=N_BATCHS)\n",
    "test_iter = test_datagen.flow_from_directory(test_dir,\n",
    "                                             target_size=IMAGE_SIZE,\n",
    "                                             class_mode='categorical',\n",
    "                                             batch_size=N_BATCHS)"
   ]
  },
  {
   "cell_type": "code",
   "execution_count": 38,
   "metadata": {
    "colab": {
     "base_uri": "https://localhost:8080/"
    },
    "executionInfo": {
     "elapsed": 12,
     "status": "ok",
     "timestamp": 1631945399177,
     "user": {
      "displayName": "류선영",
      "photoUrl": "https://lh3.googleusercontent.com/a/default-user=s64",
      "userId": "15143999593966649713"
     },
     "user_tz": -540
    },
    "id": "U6YPz8gfuAGn",
    "outputId": "93618110-8080-4ae8-bb95-2c47e092ca74"
   },
   "outputs": [
    {
     "data": {
      "text/plain": [
       "{'MildDemented': 0,\n",
       " 'ModerateDemented': 1,\n",
       " 'NonDemented': 2,\n",
       " 'VeryMildDemented': 3}"
      ]
     },
     "execution_count": 38,
     "metadata": {},
     "output_type": "execute_result"
    }
   ],
   "source": [
    "# Label 확인 - iterator.class_indices\n",
    "train_iter.class_indices"
   ]
  },
  {
   "cell_type": "code",
   "execution_count": 39,
   "metadata": {
    "colab": {
     "base_uri": "https://localhost:8080/"
    },
    "executionInfo": {
     "elapsed": 437,
     "status": "ok",
     "timestamp": 1631945399606,
     "user": {
      "displayName": "류선영",
      "photoUrl": "https://lh3.googleusercontent.com/a/default-user=s64",
      "userId": "15143999593966649713"
     },
     "user_tz": -540
    },
    "id": "ResCNB4hCND1",
    "outputId": "8a3f757b-9abd-48da-ab77-8e230e2014e2"
   },
   "outputs": [
    {
     "data": {
      "text/plain": [
       "{'MildDemented': 0,\n",
       " 'ModerateDemented': 1,\n",
       " 'NonDemented': 2,\n",
       " 'VeryMildDemented': 3}"
      ]
     },
     "execution_count": 39,
     "metadata": {},
     "output_type": "execute_result"
    }
   ],
   "source": [
    "test_iter.class_indices"
   ]
  },
  {
   "cell_type": "code",
   "execution_count": 40,
   "metadata": {
    "colab": {
     "base_uri": "https://localhost:8080/"
    },
    "executionInfo": {
     "elapsed": 11,
     "status": "ok",
     "timestamp": 1631945399609,
     "user": {
      "displayName": "류선영",
      "photoUrl": "https://lh3.googleusercontent.com/a/default-user=s64",
      "userId": "15143999593966649713"
     },
     "user_tz": -540
    },
    "id": "D4belpdDAS4q",
    "outputId": "bc736b45-dbd8-41f2-d82f-617eabbfe5a3"
   },
   "outputs": [
    {
     "data": {
      "text/plain": [
       "(52, 13)"
      ]
     },
     "execution_count": 40,
     "metadata": {},
     "output_type": "execute_result"
    }
   ],
   "source": [
    "# 1 에폭당 step 수 - len(iterator)\n",
    "len(train_iter), len(test_iter)"
   ]
  },
  {
   "cell_type": "code",
   "execution_count": 41,
   "metadata": {
    "colab": {
     "base_uri": "https://localhost:8080/"
    },
    "executionInfo": {
     "elapsed": 27525,
     "status": "ok",
     "timestamp": 1631945427770,
     "user": {
      "displayName": "류선영",
      "photoUrl": "https://lh3.googleusercontent.com/a/default-user=s64",
      "userId": "15143999593966649713"
     },
     "user_tz": -540
    },
    "id": "xIfyojoXAdA_",
    "outputId": "452fd86d-45bf-4ecd-b3f6-d3c90adf62ec"
   },
   "outputs": [
    {
     "name": "stdout",
     "output_type": "stream",
     "text": [
      "<class 'tuple'>\n",
      "<class 'numpy.ndarray'> <class 'numpy.ndarray'>\n",
      "(100, 208, 176, 3) (100, 4)\n"
     ]
    }
   ],
   "source": [
    "# iterator를 이용해서 데이터 조회\n",
    "batch = next(train_iter)\n",
    "print(type(batch))\n",
    "print(type(batch[0]), type(batch[1]))\n",
    "print(batch[0].shape, batch[1].shape)  #(batch 크기만큼의 iamge, batch 크기 만큼의 label)"
   ]
  },
  {
   "cell_type": "markdown",
   "metadata": {
    "id": "-ms3RKqVEfyj"
   },
   "source": [
    "## 모델 형성"
   ]
  },
  {
   "cell_type": "code",
   "execution_count": 51,
   "metadata": {
    "executionInfo": {
     "elapsed": 15,
     "status": "ok",
     "timestamp": 1631945427770,
     "user": {
      "displayName": "류선영",
      "photoUrl": "https://lh3.googleusercontent.com/a/default-user=s64",
      "userId": "15143999593966649713"
     },
     "user_tz": -540
    },
    "id": "iy0XIjFNCT9X"
   },
   "outputs": [],
   "source": [
    "def create_model():\n",
    "    model = keras.Sequential()\n",
    "    \n",
    "    model.add(layers.Conv2D(filters=64, kernel_size=3, padding='same', activation='relu', input_shape=(208, 176, 3)))\n",
    "    model.add(layers.MaxPool2D(padding='same'))\n",
    "\n",
    "    model.add(layers.Conv2D(filters=64, kernel_size=3, padding='same', activation='relu'))\n",
    "    model.add(layers.MaxPool2D(padding='same'))\n",
    "\n",
    "    model.add(layers.Conv2D(filters=128, kernel_size=3, padding='same', activation='relu'))\n",
    "    model.add(layers.MaxPool2D(padding='same'))\n",
    "\n",
    "    model.add(layers.Conv2D(filters=128, kernel_size=3, padding='same', activation='relu'))\n",
    "    model.add(layers.MaxPool2D(padding='same'))\n",
    "\n",
    "    # Dense\n",
    "    model.add(layers.Flatten())\n",
    "    # Dropout\n",
    "    model.add(layers.Dropout(rate=0.5))\n",
    "    model.add(layers.Dense(units=512, activation='relu'))\n",
    "    model.add(layers.Dense(units=4, activation='softmax'))  # 다중분류 출력 레이어\n",
    "\n",
    "    return model"
   ]
  },
  {
   "cell_type": "code",
   "execution_count": 52,
   "metadata": {
    "executionInfo": {
     "elapsed": 356,
     "status": "ok",
     "timestamp": 1631945437851,
     "user": {
      "displayName": "류선영",
      "photoUrl": "https://lh3.googleusercontent.com/a/default-user=s64",
      "userId": "15143999593966649713"
     },
     "user_tz": -540
    },
    "id": "z4j6e4UiAfOm"
   },
   "outputs": [],
   "source": [
    "model = create_model()\n",
    "model.compile(optimizer=keras.optimizers.Adam(learning_rate=LEARNING_RATE), \n",
    "              loss='categorical_crossentropy', \n",
    "              metrics=['accuracy'])"
   ]
  },
  {
   "cell_type": "code",
   "execution_count": 24,
   "metadata": {
    "colab": {
     "base_uri": "https://localhost:8080/"
    },
    "executionInfo": {
     "elapsed": 424,
     "status": "ok",
     "timestamp": 1631945440004,
     "user": {
      "displayName": "류선영",
      "photoUrl": "https://lh3.googleusercontent.com/a/default-user=s64",
      "userId": "15143999593966649713"
     },
     "user_tz": -540
    },
    "id": "_pM1N4MWAfK_",
    "outputId": "5da448ff-f8bb-43f4-9894-ffa24c651e0a"
   },
   "outputs": [
    {
     "name": "stdout",
     "output_type": "stream",
     "text": [
      "Model: \"sequential\"\n",
      "_________________________________________________________________\n",
      "Layer (type)                 Output Shape              Param #   \n",
      "=================================================================\n",
      "conv2d (Conv2D)              (None, 208, 176, 64)      1792      \n",
      "_________________________________________________________________\n",
      "max_pooling2d (MaxPooling2D) (None, 104, 88, 64)       0         \n",
      "_________________________________________________________________\n",
      "conv2d_1 (Conv2D)            (None, 104, 88, 64)       36928     \n",
      "_________________________________________________________________\n",
      "max_pooling2d_1 (MaxPooling2 (None, 52, 44, 64)        0         \n",
      "_________________________________________________________________\n",
      "conv2d_2 (Conv2D)            (None, 52, 44, 128)       73856     \n",
      "_________________________________________________________________\n",
      "max_pooling2d_2 (MaxPooling2 (None, 26, 22, 128)       0         \n",
      "_________________________________________________________________\n",
      "conv2d_3 (Conv2D)            (None, 26, 22, 128)       147584    \n",
      "_________________________________________________________________\n",
      "max_pooling2d_3 (MaxPooling2 (None, 13, 11, 128)       0         \n",
      "_________________________________________________________________\n",
      "flatten (Flatten)            (None, 18304)             0         \n",
      "_________________________________________________________________\n",
      "dropout (Dropout)            (None, 18304)             0         \n",
      "_________________________________________________________________\n",
      "dense (Dense)                (None, 512)               9372160   \n",
      "_________________________________________________________________\n",
      "dense_1 (Dense)              (None, 4)                 2052      \n",
      "=================================================================\n",
      "Total params: 9,634,372\n",
      "Trainable params: 9,634,372\n",
      "Non-trainable params: 0\n",
      "_________________________________________________________________\n"
     ]
    }
   ],
   "source": [
    "model.summary()"
   ]
  },
  {
   "cell_type": "code",
   "execution_count": 25,
   "metadata": {
    "colab": {
     "base_uri": "https://localhost:8080/",
     "height": 1000
    },
    "executionInfo": {
     "elapsed": 934,
     "status": "ok",
     "timestamp": 1631945442042,
     "user": {
      "displayName": "류선영",
      "photoUrl": "https://lh3.googleusercontent.com/a/default-user=s64",
      "userId": "15143999593966649713"
     },
     "user_tz": -540
    },
    "id": "3rOF-Ox2GeFy",
    "outputId": "701cc7db-ed3d-4806-85a4-e62b6f8c0267"
   },
   "outputs": [
    {
     "name": "stdout",
     "output_type": "stream",
     "text": [
      "('You must install pydot (`pip install pydot`) and install graphviz (see instructions at https://graphviz.gitlab.io/download/) ', 'for plot_model/model_to_dot to work.')\n"
     ]
    }
   ],
   "source": [
    "keras.utils.plot_model(model, show_shapes=True)"
   ]
  },
  {
   "cell_type": "code",
   "execution_count": 44,
   "metadata": {
    "colab": {
     "base_uri": "https://localhost:8080/"
    },
    "executionInfo": {
     "elapsed": 392,
     "status": "ok",
     "timestamp": 1631945443807,
     "user": {
      "displayName": "류선영",
      "photoUrl": "https://lh3.googleusercontent.com/a/default-user=s64",
      "userId": "15143999593966649713"
     },
     "user_tz": -540
    },
    "id": "J8gDdpbpGgCo",
    "outputId": "df92c3c1-9d6d-4930-8ad0-202eb06c70b0"
   },
   "outputs": [
    {
     "name": "stdout",
     "output_type": "stream",
     "text": [
      "/home/jupyter/Alzheimer_project/brain/brain_model/test1\n"
     ]
    }
   ],
   "source": [
    "# weight 저장 경로\n",
    "save_dir = os.path.join('/home/jupyter/Alzheimer_project/brain', 'brain_model', 'test1')\n",
    "print(save_dir)\n",
    "os.makedirs(save_dir, exist_ok=True)"
   ]
  },
  {
   "cell_type": "code",
   "execution_count": 45,
   "metadata": {
    "executionInfo": {
     "elapsed": 3,
     "status": "ok",
     "timestamp": 1631945446147,
     "user": {
      "displayName": "류선영",
      "photoUrl": "https://lh3.googleusercontent.com/a/default-user=s64",
      "userId": "15143999593966649713"
     },
     "user_tz": -540
    },
    "id": "agzSRzOPTF5W"
   },
   "outputs": [],
   "source": [
    "save_file_path = os.path.join(save_dir, 'weights_ckpt')  # 저장할 weight 파일경로\n",
    "\n",
    "mc_callback = keras.callbacks.ModelCheckpoint(filepath=save_file_path,\n",
    "                                              save_weights_only=True,\n",
    "                                              save_best_only=True,\n",
    "                                              monitor='val_loss',\n",
    "                                              verbose=2)\n",
    "\n",
    "es_callback = keras.callbacks.EarlyStopping(monitor='val_loss',\n",
    "                                            patience=10)"
   ]
  },
  {
   "cell_type": "markdown",
   "metadata": {
    "id": "J-yPBbBwTRnP"
   },
   "source": [
    "## Model Training(학습)"
   ]
  },
  {
   "cell_type": "code",
   "execution_count": 53,
   "metadata": {
    "colab": {
     "base_uri": "https://localhost:8080/"
    },
    "executionInfo": {
     "elapsed": 1862569,
     "status": "ok",
     "timestamp": 1631947311799,
     "user": {
      "displayName": "류선영",
      "photoUrl": "https://lh3.googleusercontent.com/a/default-user=s64",
      "userId": "15143999593966649713"
     },
     "user_tz": -540
    },
    "id": "9TkY2KLITLpi",
    "outputId": "41907260-6305-4cc1-8b45-db646e1aca2c"
   },
   "outputs": [
    {
     "name": "stdout",
     "output_type": "stream",
     "text": [
      "Epoch 1/30\n",
      "52/52 [==============================] - 259s 5s/step - loss: 1.1321 - accuracy: 0.4884 - val_loss: 1.0301 - val_accuracy: 0.5152\n",
      "\n",
      "Epoch 00001: val_loss did not improve from 0.85163\n",
      "Epoch 2/30\n",
      "52/52 [==============================] - 261s 5s/step - loss: 1.0009 - accuracy: 0.5181 - val_loss: 0.9784 - val_accuracy: 0.5223\n",
      "\n",
      "Epoch 00002: val_loss did not improve from 0.85163\n",
      "Epoch 3/30\n",
      "52/52 [==============================] - 262s 5s/step - loss: 0.9260 - accuracy: 0.5538 - val_loss: 0.9881 - val_accuracy: 0.5332\n",
      "\n",
      "Epoch 00003: val_loss did not improve from 0.85163\n",
      "Epoch 4/30\n",
      "52/52 [==============================] - 258s 5s/step - loss: 0.8718 - accuracy: 0.5958 - val_loss: 0.9348 - val_accuracy: 0.5410\n",
      "\n",
      "Epoch 00004: val_loss did not improve from 0.85163\n",
      "Epoch 5/30\n",
      "52/52 [==============================] - 259s 5s/step - loss: 0.7907 - accuracy: 0.6467 - val_loss: 0.8703 - val_accuracy: 0.6067\n",
      "\n",
      "Epoch 00005: val_loss did not improve from 0.85163\n",
      "Epoch 6/30\n",
      "52/52 [==============================] - 261s 5s/step - loss: 0.6973 - accuracy: 0.6907 - val_loss: 0.8777 - val_accuracy: 0.6208\n",
      "\n",
      "Epoch 00006: val_loss did not improve from 0.85163\n",
      "Epoch 7/30\n",
      "52/52 [==============================] - 260s 5s/step - loss: 0.6019 - accuracy: 0.7366 - val_loss: 0.9690 - val_accuracy: 0.6044\n",
      "\n",
      "Epoch 00007: val_loss did not improve from 0.85163\n",
      "Epoch 8/30\n",
      "52/52 [==============================] - 260s 5s/step - loss: 0.5164 - accuracy: 0.7862 - val_loss: 0.8338 - val_accuracy: 0.6458\n",
      "\n",
      "Epoch 00008: val_loss improved from 0.85163 to 0.83383, saving model to /home/jupyter/Alzheimer_project/brain/brain_model/test1/weights_ckpt\n",
      "Epoch 9/30\n",
      "52/52 [==============================] - 260s 5s/step - loss: 0.4157 - accuracy: 0.8248 - val_loss: 0.8521 - val_accuracy: 0.6489\n",
      "\n",
      "Epoch 00009: val_loss did not improve from 0.83383\n",
      "Epoch 10/30\n",
      "52/52 [==============================] - 258s 5s/step - loss: 0.3383 - accuracy: 0.8686 - val_loss: 0.7715 - val_accuracy: 0.6857\n",
      "\n",
      "Epoch 00010: val_loss improved from 0.83383 to 0.77148, saving model to /home/jupyter/Alzheimer_project/brain/brain_model/test1/weights_ckpt\n",
      "Epoch 11/30\n",
      "52/52 [==============================] - 262s 5s/step - loss: 0.2761 - accuracy: 0.8895 - val_loss: 0.8976 - val_accuracy: 0.6763\n",
      "\n",
      "Epoch 00011: val_loss did not improve from 0.77148\n",
      "Epoch 12/30\n",
      "52/52 [==============================] - 257s 5s/step - loss: 0.2501 - accuracy: 0.9026 - val_loss: 0.9406 - val_accuracy: 0.6669\n",
      "\n",
      "Epoch 00012: val_loss did not improve from 0.77148\n",
      "Epoch 13/30\n",
      "52/52 [==============================] - 257s 5s/step - loss: 0.1743 - accuracy: 0.9377 - val_loss: 0.7709 - val_accuracy: 0.7177\n",
      "\n",
      "Epoch 00013: val_loss improved from 0.77148 to 0.77087, saving model to /home/jupyter/Alzheimer_project/brain/brain_model/test1/weights_ckpt\n",
      "Epoch 14/30\n",
      "52/52 [==============================] - 258s 5s/step - loss: 0.1529 - accuracy: 0.9455 - val_loss: 0.8937 - val_accuracy: 0.6951\n",
      "\n",
      "Epoch 00014: val_loss did not improve from 0.77087\n",
      "Epoch 15/30\n",
      "52/52 [==============================] - 259s 5s/step - loss: 0.1220 - accuracy: 0.9561 - val_loss: 0.8496 - val_accuracy: 0.7240\n",
      "\n",
      "Epoch 00015: val_loss did not improve from 0.77087\n",
      "Epoch 16/30\n",
      "52/52 [==============================] - 260s 5s/step - loss: 0.1130 - accuracy: 0.9607 - val_loss: 0.9737 - val_accuracy: 0.7115\n",
      "\n",
      "Epoch 00016: val_loss did not improve from 0.77087\n",
      "Epoch 17/30\n",
      "52/52 [==============================] - 259s 5s/step - loss: 0.0812 - accuracy: 0.9707 - val_loss: 0.9276 - val_accuracy: 0.7310\n",
      "\n",
      "Epoch 00017: val_loss did not improve from 0.77087\n",
      "Epoch 18/30\n",
      "52/52 [==============================] - 257s 5s/step - loss: 0.0623 - accuracy: 0.9777 - val_loss: 1.2974 - val_accuracy: 0.7045\n",
      "\n",
      "Epoch 00018: val_loss did not improve from 0.77087\n",
      "Epoch 19/30\n",
      "52/52 [==============================] - 262s 5s/step - loss: 0.0538 - accuracy: 0.9813 - val_loss: 1.1783 - val_accuracy: 0.7232\n",
      "\n",
      "Epoch 00019: val_loss did not improve from 0.77087\n",
      "Epoch 20/30\n",
      "52/52 [==============================] - 258s 5s/step - loss: 0.0552 - accuracy: 0.9803 - val_loss: 1.0732 - val_accuracy: 0.7170\n",
      "\n",
      "Epoch 00020: val_loss did not improve from 0.77087\n",
      "Epoch 21/30\n",
      "52/52 [==============================] - 259s 5s/step - loss: 0.0411 - accuracy: 0.9861 - val_loss: 1.3208 - val_accuracy: 0.7021\n",
      "\n",
      "Epoch 00021: val_loss did not improve from 0.77087\n",
      "Epoch 22/30\n",
      "52/52 [==============================] - 259s 5s/step - loss: 0.0435 - accuracy: 0.9865 - val_loss: 1.4780 - val_accuracy: 0.6959\n",
      "\n",
      "Epoch 00022: val_loss did not improve from 0.77087\n",
      "Epoch 23/30\n",
      "52/52 [==============================] - 258s 5s/step - loss: 0.0301 - accuracy: 0.9891 - val_loss: 1.3463 - val_accuracy: 0.7279\n",
      "\n",
      "Epoch 00023: val_loss did not improve from 0.77087\n"
     ]
    }
   ],
   "source": [
    "# train dataset = ImageDataGenerator를 지정 (iterator)\n",
    "# steps_per_epoch : 1에폭당 몇 step인지\n",
    "hist = model.fit(train_iter, epochs=N_EPOCHS,\n",
    "                 steps_per_epoch=len(train_iter),\n",
    "                 validation_data=test_iter,\n",
    "                 validation_steps=len(test_iter),\n",
    "                 callbacks=[mc_callback, es_callback])"
   ]
  },
  {
   "cell_type": "code",
   "execution_count": 54,
   "metadata": {
    "colab": {
     "base_uri": "https://localhost:8080/",
     "height": 374
    },
    "executionInfo": {
     "elapsed": 352,
     "status": "ok",
     "timestamp": 1631947486347,
     "user": {
      "displayName": "류선영",
      "photoUrl": "https://lh3.googleusercontent.com/a/default-user=s64",
      "userId": "15143999593966649713"
     },
     "user_tz": -540
    },
    "id": "HykQ7dcEAfIL",
    "outputId": "f3160bb3-0067-4463-eeab-ebc37cb3cf7c"
   },
   "outputs": [
    {
     "data": {
      "image/png": "[encoded data removed]",
      "text/plain": [
       "<Figure size 504x432 with 1 Axes>"
      ]
     },
     "metadata": {
      "needs_background": "light"
     },
     "output_type": "display_data"
    }
   ],
   "source": [
    "plt.figure(figsize=(7,6))\n",
    "plt.plot(hist.history['loss'], label='train_loss')\n",
    "plt.plot(hist.history['val_loss'], label='val_loss')\n",
    "\n",
    "plt.legend()\n",
    "plt.show()"
   ]
  },
  {
   "cell_type": "code",
   "execution_count": 55,
   "metadata": {
    "colab": {
     "base_uri": "https://localhost:8080/",
     "height": 374
    },
    "executionInfo": {
     "elapsed": 497,
     "status": "ok",
     "timestamp": 1631947533095,
     "user": {
      "displayName": "류선영",
      "photoUrl": "https://lh3.googleusercontent.com/a/default-user=s64",
      "userId": "15143999593966649713"
     },
     "user_tz": -540
    },
    "id": "sIyiLNV4TipZ",
    "outputId": "51897816-8181-4794-dde2-f60ece9eb897"
   },
   "outputs": [
    {
     "data": {
      "image/png": "[encoded data removed]",
      "text/plain": [
       "<Figure size 504x432 with 1 Axes>"
      ]
     },
     "metadata": {
      "needs_background": "light"
     },
     "output_type": "display_data"
    }
   ],
   "source": [
    "plt.figure(figsize=(7,6))\n",
    "plt.plot(hist.history['accuracy'], label='train_accuracy')\n",
    "plt.plot(hist.history['val_accuracy'], label='val_accuracy')\n",
    "\n",
    "plt.legend()\n",
    "plt.show()"
   ]
  },
  {
   "cell_type": "code",
   "execution_count": 56,
   "metadata": {
    "executionInfo": {
     "elapsed": 284,
     "status": "ok",
     "timestamp": 1631947516956,
     "user": {
      "displayName": "류선영",
      "photoUrl": "https://lh3.googleusercontent.com/a/default-user=s64",
      "userId": "15143999593966649713"
     },
     "user_tz": -540
    },
    "id": "vXt3ZU_oTie1"
   },
   "outputs": [],
   "source": [
    "# 저장된 모델 조회\n",
    "save_model = create_model()\n",
    "save_model.compile(optimizer=keras.optimizers.Adam(learning_rate=LEARNING_RATE), \n",
    "              loss='categorical_crossentropy', \n",
    "              metrics=['accuracy'])"
   ]
  },
  {
   "cell_type": "code",
   "execution_count": 57,
   "metadata": {
    "id": "WM3Zm3pCTiRT"
   },
   "outputs": [
    {
     "name": "stdout",
     "output_type": "stream",
     "text": [
      "13/13 [==============================] - 16s 1s/step - loss: 1.3710 - accuracy: 0.4550\n"
     ]
    },
    {
     "data": {
      "text/plain": [
       "[1.3709750175476074, 0.4550429880619049]"
      ]
     },
     "execution_count": 57,
     "metadata": {},
     "output_type": "execute_result"
    }
   ],
   "source": [
    "save_model.evaluate(test_iter)"
   ]
  },
  {
   "cell_type": "code",
   "execution_count": null,
   "metadata": {},
   "outputs": [],
   "source": []
  }
 ],
 "metadata": {
  "accelerator": "GPU",
  "colab": {
   "collapsed_sections": [],
   "name": "brain_tensorflow.ipynb",
   "provenance": []
  },
  "environment": {
   "name": "pytorch-gpu.1-9.m79",
   "type": "gcloud",
   "uri": "gcr.io/deeplearning-platform-release/pytorch-gpu.1-9:m79"
  },
  "kernelspec": {
   "display_name": "Python 3",
   "language": "python",
   "name": "python3"
  },
  "language_info": {
   "codemirror_mode": {
    "name": "ipython",
    "version": 3
   },
   "file_extension": ".py",
   "mimetype": "text/x-python",
   "name": "python",
   "nbconvert_exporter": "python",
   "pygments_lexer": "ipython3",
   "version": "3.7.10"
  }
 },
 "nbformat": 4,
 "nbformat_minor": 4
}
